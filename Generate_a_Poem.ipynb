{
  "nbformat": 4,
  "nbformat_minor": 0,
  "metadata": {
    "colab": {
      "name": "Generate a Poem.ipynb",
      "provenance": [],
      "authorship_tag": "ABX9TyP940+u0s+MsdX8Xtbg27Pv",
      "include_colab_link": true
    },
    "kernelspec": {
      "name": "python3",
      "display_name": "Python 3"
    },
    "language_info": {
      "name": "python"
    }
  },
  "cells": [
    {
      "cell_type": "markdown",
      "metadata": {
        "id": "view-in-github",
        "colab_type": "text"
      },
      "source": [
        "<a href=\"https://colab.research.google.com/github/natnew/Python-Projects-Generate-a-Poem/blob/main/Generate_a_Poem.ipynb\" target=\"_parent\"><img src=\"https://colab.research.google.com/assets/colab-badge.svg\" alt=\"Open In Colab\"/></a>"
      ]
    },
    {
      "cell_type": "code",
      "execution_count": null,
      "metadata": {
        "id": "lzdU-Oqtpg-r"
      },
      "outputs": [],
      "source": [
        "import random"
      ]
    },
    {
      "cell_type": "code",
      "source": [
        "when = ['A few years ago', 'Yesterday', 'Last night', 'A long time ago','On 1st Jan', 'Once upon a time', 'Before man walked the earth']\n",
        "who = ['a rabbit', 'an elephant', 'a mouse', 'a turtle','a cat', 'a chicken', 'a butterfly', 'an ant']\n",
        "name = ['Natasha', 'Ben', 'Casandra', 'Emily', 'Sam', 'George', 'Carmel']\n",
        "residence = ['Spain','Russia', 'Germany', 'Venice', 'England', 'Ireland', 'Scotland', 'Wales', 'France', 'Italy', 'Austria']\n",
        "went = ['cinema', 'laundry', 'party', 'mountains', 'lake', 'funfare', 'circus', 'zoo']\n",
        "happened = ['made a lot of friends','Eats a burger', 'found a secret key', 'solved a mistery', 'wrote a book']\n",
        "rhyme1 = ['blue','clue','you','knew', 'who']\n",
        "rhyme2 = ['flew', 'few', 'grew', 'do']\n",
        "rhyme3 = ['Drew', 'Hu', 'Boo', 'Dulu']\n",
        "like = ['a kangaroo', 'a buckaroo', ' a caribou', 'a cock-a-doodle-doo']\n"
      ],
      "metadata": {
        "id": "Rli4yepLpoMo"
      },
      "execution_count": null,
      "outputs": []
    },
    {
      "cell_type": "code",
      "source": [
        "print(random.choice(when) + ', ' + 'When the wind still blew')\n",
        "print('There was ' + random.choice(who) + ' and it was called Who')\n",
        "print('It lived with ' + random.choice(who))\n",
        "print('Whose name was ' + random.choice(rhyme3))\n",
        "print('It lived with ' + random.choice(who) + ' who acted like ' + random.choice(like))"
      ],
      "metadata": {
        "colab": {
          "base_uri": "https://localhost:8080/"
        },
        "id": "BrfL-yioptNI",
        "outputId": "8c5cbd0c-476b-4b5e-e696-6642a7755e37"
      },
      "execution_count": null,
      "outputs": [
        {
          "output_type": "stream",
          "name": "stdout",
          "text": [
            "A few years ago, When the wind still blew\n",
            "There was an ant and it was called Who\n",
            "It lived with an ant\n",
            "Whose name was Dulu\n",
            "It lived with an elephant who acted like a buckaroo\n"
          ]
        }
      ]
    }
  ]
}